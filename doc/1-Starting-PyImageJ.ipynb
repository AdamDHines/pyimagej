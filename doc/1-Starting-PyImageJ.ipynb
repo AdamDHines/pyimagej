{
 "cells": [
  {
   "cell_type": "markdown",
   "metadata": {},
   "source": [
    "PyImageJ Tutorial\n",
    "===\n",
    "\n",
    "This notebook covers how to use ImageJ as a library from Python. A major advantage of this approach is the ability to combine ImageJ with other tools available from the Python software ecosystem, including NumPy, SciPy, scikit-image, CellProfiler, OpenCV, ITK and more.\n",
    "\n",
    "This notebook assumes familiarity with the ImageJ API. Detailed tutorials in that regard can be found in the other notebooks."
   ]
  },
  {
   "cell_type": "markdown",
   "metadata": {},
   "source": [
    "## 1 Starting ImageJ from Python\n",
    "\n",
    "The [pyimagej](https://pypi.org/project/pyimagej/) module enables access to the entire ImageJ API from Python in a natural way.\n",
    "\n",
    "Let's initialize an ImageJ gateway including Fiji plugins, at a reproducible version:"
   ]
  },
  {
   "cell_type": "code",
   "execution_count": null,
   "metadata": {},
   "outputs": [],
   "source": [
    "import imagej\n",
    "ij = imagej.init('sc.fiji:fiji:2.3.1')\n",
    "ij.getVersion()"
   ]
  },
  {
   "cell_type": "markdown",
   "metadata": {},
   "source": [
    "### Ways to initialize\n",
    "\n",
    "| Requirement                                   | Code<sup>1</sup>                                                     | Reproducible?<sup>2</sup> |\n",
    "|:----------------------------------------------|:---------------------------------------------------------------------|:-------------------------:|\n",
    "| Newest available version of ImageJ            | `ij = imagej.init()`                                                 | NO                        |\n",
    "| Specific version of ImageJ                    | `ij = imagej.init('2.3.0')`                                          | YES                       |\n",
    "| Interactive (newest version)*                 | `ij = imagej.init(mode='interactive')`                               | NO                        |\n",
    "| Interactive (specific version)*               | `ij = imagej.init('net.imagej:imageJ:2.1.0', mode='interactive')`    | YES                       |\n",
    "| With support for ImageJ 1.x (newest versions) | `ij = imagej.init('net.imagej:imagej+net.imagej:imagej-legacy')`     | NO                        |\n",
    "| With Fiji plugins (newest version)            | `ij = imagej.init('sc.fiji:fiji')`                                   | NO                        |\n",
    "| With Fiji plugins (specific version)          | `ij = imagej.init('sc.fiji:fiji:2.1.1')`                             | YES                       |\n",
    "| From a local installation                     | `ij = imagej.init('/Applications/Fiji.app')`                         | DEPENDS                   |\n",
    "\n",
    "*: `mode='interactive'` is unavailalbe on MacOS. Instead use `mode='gui'`. When set to `gui` mode the Python inerpter is blocked and no longer interactive._\n",
    "\n",
    "<sup>1</sup> pyimagej uses [`jgo`](https://github.com/scijava/jgo) internally to call up ImageJ, so all of these initializations are tied to the usage of `jgo`. You can read up on the [usage of `jgo`](https://github.com/scijava/jgo#usage) to find out more about this initialization.\n",
    "\n",
    "<sup>2</sup> ___Reproducible___ means code is stable, executing the same today, tomorrow, and in years to come. While it is convenient and elegant to depend on the newest version of a program, behavior may change when new versions are released—for the better if bugs are fixed; for the worse if bugs are introduced—and people executing your notebook at a later time may encounter broken cells, unexpected results, or other more subtle behavioral differences. You can help avoid this pitfall by pinning to a specific version of the software. The British Ecological Society published [Guide to Better Science: Reproducible Code](https://www.britishecologicalsociety.org/wp-content/uploads/2018/12/BES-Reproducible-Code.pdf) diving into the relevant challenges in more detail, including an [R](https://www.r-project.org/)-centric illustration of best practices. A web search for `reproducible python` also yields several detailed articles."
   ]
  },
  {
   "cell_type": "markdown",
   "metadata": {},
   "source": [
    "### 1.2 Increasing the memory available to Java\n",
    "\n",
    "Java's virtual machine (the JVM) has a \"max heap\" value limiting how much\n",
    "memory it can use. You can increase it:\n",
    "\n",
    "```python\n",
    "import imagej\n",
    "import scyjava\n",
    "scyjava.config.add_options('-Xmx6g')\n",
    "ij = imagej.init()\n",
    "```\n",
    "\n",
    "Replace `6g` with the amount of memory Java should have. You can also pass\n",
    "[other JVM arguments](https://docs.oracle.com/javase/8/docs/technotes/tools/unix/java.html).\n",
    "\n",
    "Without having specified the max heap value explicitly, here is how much memory this notebook's JVM has available:"
   ]
  },
  {
   "cell_type": "code",
   "execution_count": null,
   "metadata": {},
   "outputs": [],
   "source": [
    "ij.getApp().getInfo(True)"
   ]
  }
 ],
 "metadata": {
  "kernelspec": {
   "display_name": "Python 3 (ipykernel)",
   "language": "python",
   "name": "python3"
  },
  "language_info": {
   "codemirror_mode": {
    "name": "ipython",
    "version": 3
   },
   "file_extension": ".py",
   "mimetype": "text/x-python",
   "name": "python",
   "nbconvert_exporter": "python",
   "pygments_lexer": "ipython3",
   "version": "3.8.10"
  },
  "toc": {
   "base_numbering": 1,
   "nav_menu": {},
   "number_sections": true,
   "sideBar": true,
   "skip_h1_title": true,
   "title_cell": "Table of Contents",
   "title_sidebar": "Contents",
   "toc_cell": false,
   "toc_position": {
    "height": "calc(100% - 180px)",
    "left": "10px",
    "top": "150px",
    "width": "307px"
   },
   "toc_section_display": true,
   "toc_window_display": true
  }
 },
 "nbformat": 4,
 "nbformat_minor": 2
}
