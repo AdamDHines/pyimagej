{
 "metadata": {
  "language_info": {
   "codemirror_mode": {
    "name": "ipython",
    "version": 3
   },
   "file_extension": ".py",
   "mimetype": "text/x-python",
   "name": "python",
   "nbconvert_exporter": "python",
   "pygments_lexer": "ipython3",
   "version": "3.8.8"
  },
  "orig_nbformat": 2,
  "kernelspec": {
   "name": "python388jvsc74a57bd07b7530066bd1d745fa16506fb14cbca099a4b8d67b21d13d6027fe37f1efffa5",
   "display_name": "Python 3.8.8 64-bit ('pyij': conda)"
  }
 },
 "nbformat": 4,
 "nbformat_minor": 2,
 "cells": [
  {
   "source": [
    "PyImageJ Code Snippets\n",
    "===\n",
    "\n",
    "In this notebook we'll cover how to perform some common imagej operations (_i.e._ extracting channels, merging, etc..) in PyImageJ.\n",
    "\n",
    "First let's intitalize ImageJ and load in a test stack (3-channel time series dataset)."
   ],
   "cell_type": "markdown",
   "metadata": {}
  },
  {
   "cell_type": "code",
   "execution_count": 1,
   "metadata": {},
   "outputs": [],
   "source": [
    "import imagej\n",
    "import scyjava as sj\n",
    "import numpy as np\n",
    "import xarray as xr\n",
    "\n",
    "# start imagej\n",
    "ij = imagej.init()\n",
    "\n",
    "# load image\n",
    "path = \"/home/edward/Documents/scratch/data/test.tif\"\n",
    "img = ij.io().open(path)"
   ]
  },
  {
   "source": [
    "## Extract channels\n",
    "\n",
    "Channels can be extracted by slicing the `xarray` channel coordinate. Below is a simple method that simplifies this process. Here you just need to pass the stack and which channel you want extracted."
   ],
   "cell_type": "markdown",
   "metadata": {}
  },
  {
   "cell_type": "code",
   "execution_count": 2,
   "metadata": {},
   "outputs": [],
   "source": [
    "def extract_channel(stack, channel: int):\n",
    "    channel_num = channel - 1\n",
    "\n",
    "    if len(stack.dims) == 4:\n",
    "        extract = stack[:,channel_num,:,:]\n",
    "        print(\"Extracted channel {}.\".format(str(channel)))\n",
    "    elif len(stack.dims) == 3:\n",
    "        extract = stack[:,:,channel_num]\n",
    "    else:\n",
    "        print(\"No channels found: {}\".format(stack.dims))\n",
    "\n",
    "    # re-attach the Channel coordinate with the Channel dimension\n",
    "    extract = extract.expand_dims(\"Channel\")\n",
    "    extract = extract.rename(\"Channel \" + str(channel) )\n",
    "\n",
    "    return extract"
   ]
  },
  {
   "cell_type": "code",
   "execution_count": 3,
   "metadata": {},
   "outputs": [
    {
     "output_type": "stream",
     "name": "stdout",
     "text": [
      "Extracted channel 1.\nExtracted channel 2.\nExtracted channel 3.\n"
     ]
    }
   ],
   "source": [
    "# convert dataset to xarray\n",
    "img_xarr = ij.py.from_java(img)\n",
    "\n",
    "# extract each channel\n",
    "img_ch1 = extract_channel(img_xarr, 1)\n",
    "img_ch2 = extract_channel(img_xarr, 2)\n",
    "img_ch3 = extract_channel(img_xarr, 3)"
   ]
  },
  {
   "source": [
    "## Combine channels"
   ],
   "cell_type": "markdown",
   "metadata": {}
  },
  {
   "source": [
    "Split channels can be merged by using `xarray.merge()`. Below we merge channel 1 and channel 3 and create a new xarray `Dataset`."
   ],
   "cell_type": "markdown",
   "metadata": {}
  },
  {
   "cell_type": "code",
   "execution_count": 4,
   "metadata": {},
   "outputs": [
    {
     "output_type": "execute_result",
     "data": {
      "text/plain": [
       "<xarray.Dataset>\n",
       "Dimensions:    (Channel: 2, Time: 83, x: 300, y: 300)\n",
       "Coordinates:\n",
       "  * Channel    (Channel) float64 0.0 2.0\n",
       "  * x          (x) float64 0.0 0.325 0.65 0.975 1.3 ... 96.2 96.53 96.85 97.18\n",
       "  * y          (y) float64 0.0 0.325 0.65 0.975 1.3 ... 96.2 96.53 96.85 97.18\n",
       "  * Time       (Time) float64 0.0 1.0 2.0 3.0 4.0 ... 78.0 79.0 80.0 81.0 82.0\n",
       "Data variables:\n",
       "    Channel 1  (Channel, Time, y, x) float64 1.132e+03 1.064e+03 ... nan nan\n",
       "    Channel 3  (Channel, Time, y, x) float64 nan nan nan ... 2.534e+04 2.594e+04"
      ],
      "text/html": "<div><svg style=\"position: absolute; width: 0; height: 0; overflow: hidden\">\n<defs>\n<symbol id=\"icon-database\" viewBox=\"0 0 32 32\">\n<path d=\"M16 0c-8.837 0-16 2.239-16 5v4c0 2.761 7.163 5 16 5s16-2.239 16-5v-4c0-2.761-7.163-5-16-5z\"></path>\n<path d=\"M16 17c-8.837 0-16-2.239-16-5v6c0 2.761 7.163 5 16 5s16-2.239 16-5v-6c0 2.761-7.163 5-16 5z\"></path>\n<path d=\"M16 26c-8.837 0-16-2.239-16-5v6c0 2.761 7.163 5 16 5s16-2.239 16-5v-6c0 2.761-7.163 5-16 5z\"></path>\n</symbol>\n<symbol id=\"icon-file-text2\" viewBox=\"0 0 32 32\">\n<path d=\"M28.681 7.159c-0.694-0.947-1.662-2.053-2.724-3.116s-2.169-2.030-3.116-2.724c-1.612-1.182-2.393-1.319-2.841-1.319h-15.5c-1.378 0-2.5 1.121-2.5 2.5v27c0 1.378 1.122 2.5 2.5 2.5h23c1.378 0 2.5-1.122 2.5-2.5v-19.5c0-0.448-0.137-1.23-1.319-2.841zM24.543 5.457c0.959 0.959 1.712 1.825 2.268 2.543h-4.811v-4.811c0.718 0.556 1.584 1.309 2.543 2.268zM28 29.5c0 0.271-0.229 0.5-0.5 0.5h-23c-0.271 0-0.5-0.229-0.5-0.5v-27c0-0.271 0.229-0.5 0.5-0.5 0 0 15.499-0 15.5 0v7c0 0.552 0.448 1 1 1h7v19.5z\"></path>\n<path d=\"M23 26h-14c-0.552 0-1-0.448-1-1s0.448-1 1-1h14c0.552 0 1 0.448 1 1s-0.448 1-1 1z\"></path>\n<path d=\"M23 22h-14c-0.552 0-1-0.448-1-1s0.448-1 1-1h14c0.552 0 1 0.448 1 1s-0.448 1-1 1z\"></path>\n<path d=\"M23 18h-14c-0.552 0-1-0.448-1-1s0.448-1 1-1h14c0.552 0 1 0.448 1 1s-0.448 1-1 1z\"></path>\n</symbol>\n</defs>\n</svg>\n<style>/* CSS stylesheet for displaying xarray objects in jupyterlab.\n *\n */\n\n:root {\n  --xr-font-color0: var(--jp-content-font-color0, rgba(0, 0, 0, 1));\n  --xr-font-color2: var(--jp-content-font-color2, rgba(0, 0, 0, 0.54));\n  --xr-font-color3: var(--jp-content-font-color3, rgba(0, 0, 0, 0.38));\n  --xr-border-color: var(--jp-border-color2, #e0e0e0);\n  --xr-disabled-color: var(--jp-layout-color3, #bdbdbd);\n  --xr-background-color: var(--jp-layout-color0, white);\n  --xr-background-color-row-even: var(--jp-layout-color1, white);\n  --xr-background-color-row-odd: var(--jp-layout-color2, #eeeeee);\n}\n\nhtml[theme=dark],\nbody.vscode-dark {\n  --xr-font-color0: rgba(255, 255, 255, 1);\n  --xr-font-color2: rgba(255, 255, 255, 0.54);\n  --xr-font-color3: rgba(255, 255, 255, 0.38);\n  --xr-border-color: #1F1F1F;\n  --xr-disabled-color: #515151;\n  --xr-background-color: #111111;\n  --xr-background-color-row-even: #111111;\n  --xr-background-color-row-odd: #313131;\n}\n\n.xr-wrap {\n  display: block;\n  min-width: 300px;\n  max-width: 700px;\n}\n\n.xr-text-repr-fallback {\n  /* fallback to plain text repr when CSS is not injected (untrusted notebook) */\n  display: none;\n}\n\n.xr-header {\n  padding-top: 6px;\n  padding-bottom: 6px;\n  margin-bottom: 4px;\n  border-bottom: solid 1px var(--xr-border-color);\n}\n\n.xr-header > div,\n.xr-header > ul {\n  display: inline;\n  margin-top: 0;\n  margin-bottom: 0;\n}\n\n.xr-obj-type,\n.xr-array-name {\n  margin-left: 2px;\n  margin-right: 10px;\n}\n\n.xr-obj-type {\n  color: var(--xr-font-color2);\n}\n\n.xr-sections {\n  padding-left: 0 !important;\n  display: grid;\n  grid-template-columns: 150px auto auto 1fr 20px 20px;\n}\n\n.xr-section-item {\n  display: contents;\n}\n\n.xr-section-item input {\n  display: none;\n}\n\n.xr-section-item input + label {\n  color: var(--xr-disabled-color);\n}\n\n.xr-section-item input:enabled + label {\n  cursor: pointer;\n  color: var(--xr-font-color2);\n}\n\n.xr-section-item input:enabled + label:hover {\n  color: var(--xr-font-color0);\n}\n\n.xr-section-summary {\n  grid-column: 1;\n  color: var(--xr-font-color2);\n  font-weight: 500;\n}\n\n.xr-section-summary > span {\n  display: inline-block;\n  padding-left: 0.5em;\n}\n\n.xr-section-summary-in:disabled + label {\n  color: var(--xr-font-color2);\n}\n\n.xr-section-summary-in + label:before {\n  display: inline-block;\n  content: '►';\n  font-size: 11px;\n  width: 15px;\n  text-align: center;\n}\n\n.xr-section-summary-in:disabled + label:before {\n  color: var(--xr-disabled-color);\n}\n\n.xr-section-summary-in:checked + label:before {\n  content: '▼';\n}\n\n.xr-section-summary-in:checked + label > span {\n  display: none;\n}\n\n.xr-section-summary,\n.xr-section-inline-details {\n  padding-top: 4px;\n  padding-bottom: 4px;\n}\n\n.xr-section-inline-details {\n  grid-column: 2 / -1;\n}\n\n.xr-section-details {\n  display: none;\n  grid-column: 1 / -1;\n  margin-bottom: 5px;\n}\n\n.xr-section-summary-in:checked ~ .xr-section-details {\n  display: contents;\n}\n\n.xr-array-wrap {\n  grid-column: 1 / -1;\n  display: grid;\n  grid-template-columns: 20px auto;\n}\n\n.xr-array-wrap > label {\n  grid-column: 1;\n  vertical-align: top;\n}\n\n.xr-preview {\n  color: var(--xr-font-color3);\n}\n\n.xr-array-preview,\n.xr-array-data {\n  padding: 0 5px !important;\n  grid-column: 2;\n}\n\n.xr-array-data,\n.xr-array-in:checked ~ .xr-array-preview {\n  display: none;\n}\n\n.xr-array-in:checked ~ .xr-array-data,\n.xr-array-preview {\n  display: inline-block;\n}\n\n.xr-dim-list {\n  display: inline-block !important;\n  list-style: none;\n  padding: 0 !important;\n  margin: 0;\n}\n\n.xr-dim-list li {\n  display: inline-block;\n  padding: 0;\n  margin: 0;\n}\n\n.xr-dim-list:before {\n  content: '(';\n}\n\n.xr-dim-list:after {\n  content: ')';\n}\n\n.xr-dim-list li:not(:last-child):after {\n  content: ',';\n  padding-right: 5px;\n}\n\n.xr-has-index {\n  font-weight: bold;\n}\n\n.xr-var-list,\n.xr-var-item {\n  display: contents;\n}\n\n.xr-var-item > div,\n.xr-var-item label,\n.xr-var-item > .xr-var-name span {\n  background-color: var(--xr-background-color-row-even);\n  margin-bottom: 0;\n}\n\n.xr-var-item > .xr-var-name:hover span {\n  padding-right: 5px;\n}\n\n.xr-var-list > li:nth-child(odd) > div,\n.xr-var-list > li:nth-child(odd) > label,\n.xr-var-list > li:nth-child(odd) > .xr-var-name span {\n  background-color: var(--xr-background-color-row-odd);\n}\n\n.xr-var-name {\n  grid-column: 1;\n}\n\n.xr-var-dims {\n  grid-column: 2;\n}\n\n.xr-var-dtype {\n  grid-column: 3;\n  text-align: right;\n  color: var(--xr-font-color2);\n}\n\n.xr-var-preview {\n  grid-column: 4;\n}\n\n.xr-var-name,\n.xr-var-dims,\n.xr-var-dtype,\n.xr-preview,\n.xr-attrs dt {\n  white-space: nowrap;\n  overflow: hidden;\n  text-overflow: ellipsis;\n  padding-right: 10px;\n}\n\n.xr-var-name:hover,\n.xr-var-dims:hover,\n.xr-var-dtype:hover,\n.xr-attrs dt:hover {\n  overflow: visible;\n  width: auto;\n  z-index: 1;\n}\n\n.xr-var-attrs,\n.xr-var-data {\n  display: none;\n  background-color: var(--xr-background-color) !important;\n  padding-bottom: 5px !important;\n}\n\n.xr-var-attrs-in:checked ~ .xr-var-attrs,\n.xr-var-data-in:checked ~ .xr-var-data {\n  display: block;\n}\n\n.xr-var-data > table {\n  float: right;\n}\n\n.xr-var-name span,\n.xr-var-data,\n.xr-attrs {\n  padding-left: 25px !important;\n}\n\n.xr-attrs,\n.xr-var-attrs,\n.xr-var-data {\n  grid-column: 1 / -1;\n}\n\ndl.xr-attrs {\n  padding: 0;\n  margin: 0;\n  display: grid;\n  grid-template-columns: 125px auto;\n}\n\n.xr-attrs dt,\n.xr-attrs dd {\n  padding: 0;\n  margin: 0;\n  float: left;\n  padding-right: 10px;\n  width: auto;\n}\n\n.xr-attrs dt {\n  font-weight: normal;\n  grid-column: 1;\n}\n\n.xr-attrs dt:hover span {\n  display: inline-block;\n  background: var(--xr-background-color);\n  padding-right: 10px;\n}\n\n.xr-attrs dd {\n  grid-column: 2;\n  white-space: pre-wrap;\n  word-break: break-all;\n}\n\n.xr-icon-database,\n.xr-icon-file-text2 {\n  display: inline-block;\n  vertical-align: middle;\n  width: 1em;\n  height: 1.5em !important;\n  stroke-width: 0;\n  stroke: currentColor;\n  fill: currentColor;\n}\n</style><pre class='xr-text-repr-fallback'>&lt;xarray.Dataset&gt;\nDimensions:    (Channel: 2, Time: 83, x: 300, y: 300)\nCoordinates:\n  * Channel    (Channel) float64 0.0 2.0\n  * x          (x) float64 0.0 0.325 0.65 0.975 1.3 ... 96.2 96.53 96.85 97.18\n  * y          (y) float64 0.0 0.325 0.65 0.975 1.3 ... 96.2 96.53 96.85 97.18\n  * Time       (Time) float64 0.0 1.0 2.0 3.0 4.0 ... 78.0 79.0 80.0 81.0 82.0\nData variables:\n    Channel 1  (Channel, Time, y, x) float64 1.132e+03 1.064e+03 ... nan nan\n    Channel 3  (Channel, Time, y, x) float64 nan nan nan ... 2.534e+04 2.594e+04</pre><div class='xr-wrap' hidden><div class='xr-header'><div class='xr-obj-type'>xarray.Dataset</div></div><ul class='xr-sections'><li class='xr-section-item'><input id='section-00d79c67-9bae-41d9-90a8-055cfff0bd86' class='xr-section-summary-in' type='checkbox' disabled ><label for='section-00d79c67-9bae-41d9-90a8-055cfff0bd86' class='xr-section-summary'  title='Expand/collapse section'>Dimensions:</label><div class='xr-section-inline-details'><ul class='xr-dim-list'><li><span class='xr-has-index'>Channel</span>: 2</li><li><span class='xr-has-index'>Time</span>: 83</li><li><span class='xr-has-index'>x</span>: 300</li><li><span class='xr-has-index'>y</span>: 300</li></ul></div><div class='xr-section-details'></div></li><li class='xr-section-item'><input id='section-acba814c-bfea-4358-a165-48481da359ab' class='xr-section-summary-in' type='checkbox'  checked><label for='section-acba814c-bfea-4358-a165-48481da359ab' class='xr-section-summary' >Coordinates: <span>(4)</span></label><div class='xr-section-inline-details'></div><div class='xr-section-details'><ul class='xr-var-list'><li class='xr-var-item'><div class='xr-var-name'><span class='xr-has-index'>Channel</span></div><div class='xr-var-dims'>(Channel)</div><div class='xr-var-dtype'>float64</div><div class='xr-var-preview xr-preview'>0.0 2.0</div><input id='attrs-332a5d7d-48db-431e-b536-b51b0ad1b13c' class='xr-var-attrs-in' type='checkbox' disabled><label for='attrs-332a5d7d-48db-431e-b536-b51b0ad1b13c' title='Show/Hide attributes'><svg class='icon xr-icon-file-text2'><use xlink:href='#icon-file-text2'></use></svg></label><input id='data-87ea82e2-51eb-4924-8572-db79f185d673' class='xr-var-data-in' type='checkbox'><label for='data-87ea82e2-51eb-4924-8572-db79f185d673' title='Show/Hide data repr'><svg class='icon xr-icon-database'><use xlink:href='#icon-database'></use></svg></label><div class='xr-var-attrs'><dl class='xr-attrs'></dl></div><div class='xr-var-data'><pre>array([0., 2.])</pre></div></li><li class='xr-var-item'><div class='xr-var-name'><span class='xr-has-index'>x</span></div><div class='xr-var-dims'>(x)</div><div class='xr-var-dtype'>float64</div><div class='xr-var-preview xr-preview'>0.0 0.325 0.65 ... 96.85 97.18</div><input id='attrs-fd10fa41-c764-4a07-b581-3ba51841f1dc' class='xr-var-attrs-in' type='checkbox' disabled><label for='attrs-fd10fa41-c764-4a07-b581-3ba51841f1dc' title='Show/Hide attributes'><svg class='icon xr-icon-file-text2'><use xlink:href='#icon-file-text2'></use></svg></label><input id='data-992d1545-c8b2-4341-8460-e7a2c204ba3c' class='xr-var-data-in' type='checkbox'><label for='data-992d1545-c8b2-4341-8460-e7a2c204ba3c' title='Show/Hide data repr'><svg class='icon xr-icon-database'><use xlink:href='#icon-database'></use></svg></label><div class='xr-var-attrs'><dl class='xr-attrs'></dl></div><div class='xr-var-data'><pre>array([ 0.      ,  0.325   ,  0.65    , ..., 96.525002, 96.850002, 97.175002])</pre></div></li><li class='xr-var-item'><div class='xr-var-name'><span class='xr-has-index'>y</span></div><div class='xr-var-dims'>(y)</div><div class='xr-var-dtype'>float64</div><div class='xr-var-preview xr-preview'>0.0 0.325 0.65 ... 96.85 97.18</div><input id='attrs-0dd3db7b-044e-4bc1-89b5-401f8b95ef3e' class='xr-var-attrs-in' type='checkbox' disabled><label for='attrs-0dd3db7b-044e-4bc1-89b5-401f8b95ef3e' title='Show/Hide attributes'><svg class='icon xr-icon-file-text2'><use xlink:href='#icon-file-text2'></use></svg></label><input id='data-b8416f3c-6f1c-42cd-bcb5-6526c977ea58' class='xr-var-data-in' type='checkbox'><label for='data-b8416f3c-6f1c-42cd-bcb5-6526c977ea58' title='Show/Hide data repr'><svg class='icon xr-icon-database'><use xlink:href='#icon-database'></use></svg></label><div class='xr-var-attrs'><dl class='xr-attrs'></dl></div><div class='xr-var-data'><pre>array([ 0.      ,  0.325   ,  0.65    , ..., 96.525002, 96.850002, 97.175002])</pre></div></li><li class='xr-var-item'><div class='xr-var-name'><span class='xr-has-index'>Time</span></div><div class='xr-var-dims'>(Time)</div><div class='xr-var-dtype'>float64</div><div class='xr-var-preview xr-preview'>0.0 1.0 2.0 3.0 ... 80.0 81.0 82.0</div><input id='attrs-50982c11-45d2-4f8f-941a-6d7cb4b1b3be' class='xr-var-attrs-in' type='checkbox' disabled><label for='attrs-50982c11-45d2-4f8f-941a-6d7cb4b1b3be' title='Show/Hide attributes'><svg class='icon xr-icon-file-text2'><use xlink:href='#icon-file-text2'></use></svg></label><input id='data-267089a9-a115-479c-9c3c-61c7b34f9bb7' class='xr-var-data-in' type='checkbox'><label for='data-267089a9-a115-479c-9c3c-61c7b34f9bb7' title='Show/Hide data repr'><svg class='icon xr-icon-database'><use xlink:href='#icon-database'></use></svg></label><div class='xr-var-attrs'><dl class='xr-attrs'></dl></div><div class='xr-var-data'><pre>array([ 0.,  1.,  2.,  3.,  4.,  5.,  6.,  7.,  8.,  9., 10., 11., 12., 13.,\n       14., 15., 16., 17., 18., 19., 20., 21., 22., 23., 24., 25., 26., 27.,\n       28., 29., 30., 31., 32., 33., 34., 35., 36., 37., 38., 39., 40., 41.,\n       42., 43., 44., 45., 46., 47., 48., 49., 50., 51., 52., 53., 54., 55.,\n       56., 57., 58., 59., 60., 61., 62., 63., 64., 65., 66., 67., 68., 69.,\n       70., 71., 72., 73., 74., 75., 76., 77., 78., 79., 80., 81., 82.])</pre></div></li></ul></div></li><li class='xr-section-item'><input id='section-01ddbb30-1be1-4da3-a460-e5432d877560' class='xr-section-summary-in' type='checkbox'  checked><label for='section-01ddbb30-1be1-4da3-a460-e5432d877560' class='xr-section-summary' >Data variables: <span>(2)</span></label><div class='xr-section-inline-details'></div><div class='xr-section-details'><ul class='xr-var-list'><li class='xr-var-item'><div class='xr-var-name'><span>Channel 1</span></div><div class='xr-var-dims'>(Channel, Time, y, x)</div><div class='xr-var-dtype'>float64</div><div class='xr-var-preview xr-preview'>1.132e+03 1.064e+03 ... nan nan</div><input id='attrs-e5d08648-a172-4cb2-a376-e7a6b96b7aa4' class='xr-var-attrs-in' type='checkbox' ><label for='attrs-e5d08648-a172-4cb2-a376-e7a6b96b7aa4' title='Show/Hide attributes'><svg class='icon xr-icon-file-text2'><use xlink:href='#icon-file-text2'></use></svg></label><input id='data-04b8de53-ee08-4730-b6b7-749d35763bc6' class='xr-var-data-in' type='checkbox'><label for='data-04b8de53-ee08-4730-b6b7-749d35763bc6' title='Show/Hide data repr'><svg class='icon xr-icon-database'><use xlink:href='#icon-database'></use></svg></label><div class='xr-var-attrs'><dl class='xr-attrs'><dt><span>rois :</span></dt><dd>None</dd><dt><span>tables :</span></dt><dd>None</dd><dt><span>scifio.metadata.global :</span></dt><dd>io.scif.filters.PlaneSeparatorMetadata@257e0827</dd><dt><span>scifio.metadata.image :</span></dt><dd>io.scif.FieldPrinter@69d23296\n\t--class io.scif.DefaultImageMetadata--\n\t{\n\t}\n\t\t--class io.scif.AbstractImageMetadata--\n\t\t{\n\t\tplanarAxes = [net.imagej.axis.DefaultLinearAxis@20daafe, net.imagej.axis.DefaultLinearAxis@b70ad51]\n\t\textendedAxes = [net.imagej.axis.DefaultLinearAxis@68b33c43, net.imagej.axis.DefaultLinearAxis@55dbe19a]\n\t\teffectiveAxes = [net.imagej.axis.DefaultLinearAxis@20daafe, net.imagej.axis.DefaultLinearAxis@b70ad51, net.imagej.axis.DefaultLinearAxis@68b33c43, net.imagej.axis.DefaultLinearAxis@55dbe19a]\n\t\tthumbSizeX = 128\n\t\tthumbSizeY = 128\n\t\tpixelType = 3\n\t\tbitsPerPixel = 16\n\t\taxes = [net.imagej.axis.DefaultLinearAxis@20daafe, net.imagej.axis.DefaultLinearAxis@b70ad51, net.imagej.axis.DefaultLinearAxis@68b33c43, net.imagej.axis.DefaultLinearAxis@55dbe19a]\n\t\torderCertain = false\n\t\tlittleEndian = false\n\t\tindexed = false\n\t\tplanarAxisCount = 2\n\t\tinterleavedAxisCount = -1\n\t\tfalseColor = true\n\t\tmetadataComplete = false\n\t\tthumbnail = false\n\t\trois = null\n\t\ttables = null\n\t\tname = null\n\t\ttable = {SliceLabels=[Ljava.lang.String;@3c3820bb}\n\t\t}\n\t\t\t--class java.lang.Object--\n\t\t\t{\n\t\t\t}\n</dd></dl></div><div class='xr-var-data'><pre>array([[[[1132., 1064., 1105., ...,  855.,  891.,  878.],\n         [1163., 1096., 1050., ...,  897.,  839.,  841.],\n         [1123., 1092., 1021., ...,  852.,  859.,  843.],\n         ...,\n         [ 770.,  783.,  803., ..., 3315., 3147., 3091.],\n         [ 819.,  791.,  777., ..., 3280., 3144., 3197.],\n         [ 853.,  737.,  799., ..., 3061., 3112., 2909.]],\n\n        [[1331., 1243., 1140., ...,  889.,  851.,  857.],\n         [1348., 1261., 1086., ...,  813.,  844.,  821.],\n         [1247., 1364., 1184., ...,  853.,  828.,  821.],\n         ...,\n         [ 816.,  767.,  854., ..., 2432., 2505., 2399.],\n         [ 805.,  848.,  787., ..., 2472., 2451., 2287.],\n         [ 781.,  825.,  847., ..., 2437., 2458., 2340.]],\n\n        [[1163., 1041., 1113., ...,  854.,  838.,  740.],\n         [ 985., 1110., 1008., ...,  853.,  782.,  819.],\n         [ 981., 1046., 1088., ...,  906.,  784.,  824.],\n         ...,\n...\n         ...,\n         [  nan,   nan,   nan, ...,   nan,   nan,   nan],\n         [  nan,   nan,   nan, ...,   nan,   nan,   nan],\n         [  nan,   nan,   nan, ...,   nan,   nan,   nan]],\n\n        [[  nan,   nan,   nan, ...,   nan,   nan,   nan],\n         [  nan,   nan,   nan, ...,   nan,   nan,   nan],\n         [  nan,   nan,   nan, ...,   nan,   nan,   nan],\n         ...,\n         [  nan,   nan,   nan, ...,   nan,   nan,   nan],\n         [  nan,   nan,   nan, ...,   nan,   nan,   nan],\n         [  nan,   nan,   nan, ...,   nan,   nan,   nan]],\n\n        [[  nan,   nan,   nan, ...,   nan,   nan,   nan],\n         [  nan,   nan,   nan, ...,   nan,   nan,   nan],\n         [  nan,   nan,   nan, ...,   nan,   nan,   nan],\n         ...,\n         [  nan,   nan,   nan, ...,   nan,   nan,   nan],\n         [  nan,   nan,   nan, ...,   nan,   nan,   nan],\n         [  nan,   nan,   nan, ...,   nan,   nan,   nan]]]])</pre></div></li><li class='xr-var-item'><div class='xr-var-name'><span>Channel 3</span></div><div class='xr-var-dims'>(Channel, Time, y, x)</div><div class='xr-var-dtype'>float64</div><div class='xr-var-preview xr-preview'>nan nan nan ... 2.534e+04 2.594e+04</div><input id='attrs-d6fca7a2-7616-4a4b-82ea-6809fac247e3' class='xr-var-attrs-in' type='checkbox' ><label for='attrs-d6fca7a2-7616-4a4b-82ea-6809fac247e3' title='Show/Hide attributes'><svg class='icon xr-icon-file-text2'><use xlink:href='#icon-file-text2'></use></svg></label><input id='data-98d22889-f038-4a60-b627-b3f102b7bd06' class='xr-var-data-in' type='checkbox'><label for='data-98d22889-f038-4a60-b627-b3f102b7bd06' title='Show/Hide data repr'><svg class='icon xr-icon-database'><use xlink:href='#icon-database'></use></svg></label><div class='xr-var-attrs'><dl class='xr-attrs'><dt><span>rois :</span></dt><dd>None</dd><dt><span>tables :</span></dt><dd>None</dd><dt><span>scifio.metadata.global :</span></dt><dd>io.scif.filters.PlaneSeparatorMetadata@257e0827</dd><dt><span>scifio.metadata.image :</span></dt><dd>io.scif.FieldPrinter@376c7d7d\n\t--class io.scif.DefaultImageMetadata--\n\t{\n\t}\n\t\t--class io.scif.AbstractImageMetadata--\n\t\t{\n\t\tplanarAxes = [net.imagej.axis.DefaultLinearAxis@20daafe, net.imagej.axis.DefaultLinearAxis@b70ad51]\n\t\textendedAxes = [net.imagej.axis.DefaultLinearAxis@68b33c43, net.imagej.axis.DefaultLinearAxis@55dbe19a]\n\t\teffectiveAxes = [net.imagej.axis.DefaultLinearAxis@20daafe, net.imagej.axis.DefaultLinearAxis@b70ad51, net.imagej.axis.DefaultLinearAxis@68b33c43, net.imagej.axis.DefaultLinearAxis@55dbe19a]\n\t\tthumbSizeX = 128\n\t\tthumbSizeY = 128\n\t\tpixelType = 3\n\t\tbitsPerPixel = 16\n\t\taxes = [net.imagej.axis.DefaultLinearAxis@20daafe, net.imagej.axis.DefaultLinearAxis@b70ad51, net.imagej.axis.DefaultLinearAxis@68b33c43, net.imagej.axis.DefaultLinearAxis@55dbe19a]\n\t\torderCertain = false\n\t\tlittleEndian = false\n\t\tindexed = false\n\t\tplanarAxisCount = 2\n\t\tinterleavedAxisCount = -1\n\t\tfalseColor = true\n\t\tmetadataComplete = false\n\t\tthumbnail = false\n\t\trois = null\n\t\ttables = null\n\t\tname = null\n\t\ttable = {SliceLabels=[Ljava.lang.String;@3c3820bb}\n\t\t}\n\t\t\t--class java.lang.Object--\n\t\t\t{\n\t\t\t}\n</dd></dl></div><div class='xr-var-data'><pre>array([[[[   nan,    nan,    nan, ...,    nan,    nan,    nan],\n         [   nan,    nan,    nan, ...,    nan,    nan,    nan],\n         [   nan,    nan,    nan, ...,    nan,    nan,    nan],\n         ...,\n         [   nan,    nan,    nan, ...,    nan,    nan,    nan],\n         [   nan,    nan,    nan, ...,    nan,    nan,    nan],\n         [   nan,    nan,    nan, ...,    nan,    nan,    nan]],\n\n        [[   nan,    nan,    nan, ...,    nan,    nan,    nan],\n         [   nan,    nan,    nan, ...,    nan,    nan,    nan],\n         [   nan,    nan,    nan, ...,    nan,    nan,    nan],\n         ...,\n         [   nan,    nan,    nan, ...,    nan,    nan,    nan],\n         [   nan,    nan,    nan, ...,    nan,    nan,    nan],\n         [   nan,    nan,    nan, ...,    nan,    nan,    nan]],\n\n        [[   nan,    nan,    nan, ...,    nan,    nan,    nan],\n         [   nan,    nan,    nan, ...,    nan,    nan,    nan],\n         [   nan,    nan,    nan, ...,    nan,    nan,    nan],\n         ...,\n...\n         ...,\n         [28636., 28437., 29302., ..., 24816., 23471., 23665.],\n         [28381., 28845., 29336., ..., 22370., 21567., 23002.],\n         [28234., 27708., 28752., ..., 22223., 21643., 23225.]],\n\n        [[27911., 25875., 26371., ..., 27992., 27596., 27735.],\n         [28312., 28219., 28459., ..., 27992., 27450., 28063.],\n         [27686., 29093., 29302., ..., 28096., 27632., 27767.],\n         ...,\n         [29257., 30269., 28752., ..., 25364., 24568., 24836.],\n         [29477., 29945., 29739., ..., 24999., 25514., 25822.],\n         [27028., 28039., 28825., ..., 23904., 25080., 25533.]],\n\n        [[28020., 27886., 27946., ..., 27810., 27851., 27589.],\n         [28203., 28038., 27727., ..., 27627., 27268., 27844.],\n         [28344., 28142., 27176., ..., 27222., 27524., 27256.],\n         ...,\n         [29257., 29572., 29633., ..., 26788., 28516., 27545.],\n         [28564., 28369., 28308., ..., 26313., 27012., 26735.],\n         [28381., 27672., 27835., ..., 25509., 25335., 25935.]]]])</pre></div></li></ul></div></li><li class='xr-section-item'><input id='section-46f838fc-0eb3-40e6-9717-02a4b1b4b48b' class='xr-section-summary-in' type='checkbox' disabled ><label for='section-46f838fc-0eb3-40e6-9717-02a4b1b4b48b' class='xr-section-summary'  title='Expand/collapse section'>Attributes: <span>(0)</span></label><div class='xr-section-inline-details'></div><div class='xr-section-details'><dl class='xr-attrs'></dl></div></li></ul></div></div>"
     },
     "metadata": {},
     "execution_count": 4
    }
   ],
   "source": [
    "# combine channel 1 and 3\n",
    "img_combo = xr.merge([img_ch1, img_ch3])\n",
    "\n",
    "# print new xarray dataset\n",
    "img_combo"
   ]
  },
  {
   "cell_type": "code",
   "execution_count": null,
   "metadata": {},
   "outputs": [],
   "source": []
  }
 ]
}