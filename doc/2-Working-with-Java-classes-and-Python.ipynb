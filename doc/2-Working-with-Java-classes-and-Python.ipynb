{
 "cells": [
  {
   "cell_type": "markdown",
   "metadata": {},
   "source": [
    "**PyImageJ Tutorial**\n",
    "\n",
    "This notebook covers how to use ImageJ as a library from Python. A major advantage of this approach is the ability to combine ImageJ with other tools available from the Python software ecosystem, including NumPy, SciPy, scikit-image, CellProfiler, OpenCV, ITK and more.\n",
    "\n",
    "This notebook assumes familiarity with the ImageJ API. Detailed tutorials in that regard can be found in the other notebooks."
   ]
  },
  {
   "cell_type": "markdown",
   "metadata": {},
   "source": [
    "# 2 Working with Java classes and Python\n",
    "\n",
    "PyImageJ is built on the [scyjava](https://pypi.org/project/scyjava) library, which is built on [JPype](https://jpype.readthedocs.io/) and [jgo](https://pypi.org/project/jgo). These libraries enable us to import any available Java class into our Python program, and use its full API, just as we could from within a Java program.\n",
    "\n",
    "## 2.1 Importing Java classes into Python\n",
    "\n",
    "To import Java classes, use the `scyjava.jimport` function with a string argument, passing the full name of the Java class you would like to import, assigning the result to a variable.\n",
    "\n",
    "For example, to import the `java.lang.System` class, you could write:\n",
    "\n",
    "```python\n",
    "from scyjava import jimport\n",
    "System = jimport('java.lang.System')\n",
    "```\n",
    "\n",
    "`scyjava.jimport` is all that is needed to use Java objects/resources in Python. For example importing `java.lang.Runtime` allows us to inspect the memory available to our Java Virtual Machine (JVM). First lets initialize ImageJ:"
   ]
  },
  {
   "cell_type": "code",
   "execution_count": 1,
   "metadata": {},
   "outputs": [
    {
     "name": "stdout",
     "output_type": "stream",
     "text": [
      "ImageJ version: 2.5.0/1.53r\n"
     ]
    }
   ],
   "source": [
    "import imagej\n",
    "from scyjava import jimport\n",
    "\n",
    "# initialize ImageJ\n",
    "ij = imagej.init()\n",
    "print(f\"ImageJ version: {ij.getVersion()}\")"
   ]
  },
  {
   "cell_type": "markdown",
   "metadata": {},
   "source": [
    "Now we can import `java.lang.Runtime` and inspect the JVM memory:"
   ]
  },
  {
   "cell_type": "code",
   "execution_count": 2,
   "metadata": {},
   "outputs": [
    {
     "name": "stdout",
     "output_type": "stream",
     "text": [
      "7072  MB available to Java\n"
     ]
    }
   ],
   "source": [
    "Runtime = jimport('java.lang.Runtime')\n",
    "print(Runtime.getRuntime().maxMemory() // (2**20), \" MB available to Java\")"
   ]
  }
 ],
 "metadata": {
  "kernelspec": {
   "display_name": "Python 3.10.4 ('pyijdev')",
   "language": "python",
   "name": "python3"
  },
  "language_info": {
   "codemirror_mode": {
    "name": "ipython",
    "version": 3
   },
   "file_extension": ".py",
   "mimetype": "text/x-python",
   "name": "python",
   "nbconvert_exporter": "python",
   "pygments_lexer": "ipython3",
   "version": "3.10.4"
  },
  "orig_nbformat": 4,
  "vscode": {
   "interpreter": {
    "hash": "ffb7cfab4b775ee54ab00d6ea209daa40cc054b7bb58fbad3b74bb1492b78b3c"
   }
  }
 },
 "nbformat": 4,
 "nbformat_minor": 2
}
